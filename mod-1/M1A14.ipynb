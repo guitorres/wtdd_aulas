{
 "cells": [
  {
   "cell_type": "code",
   "execution_count": 9,
   "metadata": {},
   "outputs": [
    {
     "name": "stdout",
     "output_type": "stream",
     "text": [
      "<class 'list'>\n",
      "['A', 'B', 'C', 'D']\n",
      "['D', 'C', 'B', 'A']\n",
      "['A', 'B', 'C', 'D']\n",
      "None\n",
      "['A', 'B', 'C', 'D', 'E']\n",
      "['A', 'B', 'C', 'D', 'E'] ['A', 'B', 'C', 'D', 'E']\n",
      "2093204540808 2093204540808\n",
      "['A', 'B', 'C', 'D', 'E', 'F']\n",
      "['A', 'B', 'C', 'D', 'E', 'F'] ['A', 'B', 'C', 'D', 'E', 'F', 'X']\n"
     ]
    }
   ],
   "source": [
    "l = ['A', 'B', 'C']\n",
    "print(type(l))\n",
    "l.append('D')\n",
    "print(l)\n",
    "l.sort(reverse=True)\n",
    "print(l)\n",
    "l.sort()\n",
    "print(l)\n",
    "print(l.append('E')) \n",
    "print(l[:])\n",
    "m = l\n",
    "print(l, m)\n",
    "print(id(l), id(m))\n",
    "m.append('F')\n",
    "print(l)\n",
    "def g(x):\n",
    "    x = x[:]\n",
    "    x.append('X')\n",
    "    return x\n",
    "print(l, g(l))"
   ]
  }
 ],
 "metadata": {
  "kernelspec": {
   "display_name": "Python 3",
   "language": "python",
   "name": "python3"
  },
  "language_info": {
   "codemirror_mode": {
    "name": "ipython",
    "version": 3
   },
   "file_extension": ".py",
   "mimetype": "text/x-python",
   "name": "python",
   "nbconvert_exporter": "python",
   "pygments_lexer": "ipython3",
   "version": "3.6.3"
  }
 },
 "nbformat": 4,
 "nbformat_minor": 2
}
