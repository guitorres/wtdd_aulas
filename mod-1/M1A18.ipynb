{
 "cells": [
  {
   "cell_type": "code",
   "execution_count": 12,
   "metadata": {},
   "outputs": [
    {
     "name": "stdout",
     "output_type": "stream",
     "text": [
      "henrique 8\n",
      "0 h\n"
     ]
    },
    {
     "data": {
      "text/plain": [
       "[0, 1, 2, 3, 4, 5, 6, 7]"
      ]
     },
     "execution_count": 12,
     "metadata": {},
     "output_type": "execute_result"
    }
   ],
   "source": [
    "nome = 'henrique'\n",
    "print(nome, len(nome))\n",
    "\n",
    "i = 0\n",
    "\n",
    "for i, c in enumerate(nome):\n",
    "    if c == 'e':\n",
    "        break\n",
    "    print(i, c)\n",
    "\n",
    "#while i < len(nome):\n",
    "#    print(nome[i])\n",
    "#    i += 1\n",
    "r = range(8)\n",
    "range?\n",
    "list(r)"
   ]
  }
 ],
 "metadata": {
  "kernelspec": {
   "display_name": "Python 3",
   "language": "python",
   "name": "python3"
  },
  "language_info": {
   "codemirror_mode": {
    "name": "ipython",
    "version": 3
   },
   "file_extension": ".py",
   "mimetype": "text/x-python",
   "name": "python",
   "nbconvert_exporter": "python",
   "pygments_lexer": "ipython3",
   "version": "3.6.3"
  }
 },
 "nbformat": 4,
 "nbformat_minor": 2
}
