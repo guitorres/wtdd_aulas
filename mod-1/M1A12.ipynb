{
 "cells": [
  {
   "cell_type": "code",
   "execution_count": 22,
   "metadata": {},
   "outputs": [
    {
     "name": "stdout",
     "output_type": "stream",
     "text": [
      "8\n",
      "h\n",
      "e\n",
      "h\n",
      "e\n",
      "henr\n",
      "enriqu\n",
      "enrique\n",
      "henr\n",
      "erq\n",
      "erq\n",
      "hniu\n",
      "euqirneh\n",
      "8 8\n",
      "h h\n",
      "erq erq\n"
     ]
    },
    {
     "data": {
      "text/plain": [
       "slice"
      ]
     },
     "execution_count": 22,
     "metadata": {},
     "output_type": "execute_result"
    }
   ],
   "source": [
    "nome = 'henrique'\n",
    "print(len(nome))\n",
    "print(nome[0])\n",
    "print(nome[1])\n",
    "print(nome[0])\n",
    "print(nome[-1])\n",
    "print(nome[0:4])\n",
    "print(nome[1:-1])\n",
    "print(nome[1:])\n",
    "print(nome[:4])\n",
    "print(nome[1:7:2])\n",
    "print(nome[1:-1:2])\n",
    "print(nome[::2])\n",
    "print(nome[::-1])\n",
    "print(nome.__len__(),len(nome))\n",
    "print(nome.__getitem__(0),nome[0])\n",
    "print(nome.__getitem__(slice(1, -1, 2)), nome[1:-1:2])\n",
    "type(slice(1, -1- 2))"
   ]
  }
 ],
 "metadata": {
  "kernelspec": {
   "display_name": "Python 3",
   "language": "python",
   "name": "python3"
  },
  "language_info": {
   "codemirror_mode": {
    "name": "ipython",
    "version": 3
   },
   "file_extension": ".py",
   "mimetype": "text/x-python",
   "name": "python",
   "nbconvert_exporter": "python",
   "pygments_lexer": "ipython3",
   "version": "3.6.3"
  }
 },
 "nbformat": 4,
 "nbformat_minor": 2
}
