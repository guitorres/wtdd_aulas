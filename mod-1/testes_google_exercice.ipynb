{
 "cells": [
  {
   "cell_type": "code",
   "execution_count": 1,
   "metadata": {},
   "outputs": [
    {
     "data": {
      "text/plain": [
       "('pox', 'mid')"
      ]
     },
     "execution_count": 1,
     "metadata": {},
     "output_type": "execute_result"
    }
   ],
   "source": [
    "#both_ends\n",
    "s = 'teste'\n",
    "s[:2], s[-2:]\n",
    "s = 'tes'\n",
    "s[:2], s[-2:]\n",
    "\n",
    "#fix_start\n",
    "s = 'compactacao'\n",
    "start_char = s[0]\n",
    "start_char+s[1:].replace(start_char, '*')\n",
    "\n",
    "#mix_up\n",
    "s1 = 'mix'\n",
    "s2 = 'pod'\n",
    "mix_s1 = s1[:2]\n",
    "mix_s2 = s2[:2]\n",
    "s1.replace(mix_s1, mix_s2), s2.replace(mix_s2, mix_s1)"
   ]
  },
  {
   "cell_type": "code",
   "execution_count": 19,
   "metadata": {},
   "outputs": [
    {
     "data": {
      "text/plain": [
       "[(6, 1), (3, 2), (1, 5)]"
      ]
     },
     "execution_count": 19,
     "metadata": {},
     "output_type": "execute_result"
    }
   ],
   "source": [
    "#match_ends\n",
    "s='bom dia'\n",
    "s[0],s[-1]\n",
    "#front_x\n",
    "list = ['a', 'c', 'b']\n",
    "list.sort()\n",
    "#sort_last\n",
    "list = [(1, 5), (3, 2), (6, 1)]\n",
    "def last_element(l):\n",
    "    return l[-1]\n",
    "list.sort(key=last_element)\n",
    "list"
   ]
  }
 ],
 "metadata": {
  "kernelspec": {
   "display_name": "Python 3",
   "language": "python",
   "name": "python3"
  },
  "language_info": {
   "codemirror_mode": {
    "name": "ipython",
    "version": 3
   },
   "file_extension": ".py",
   "mimetype": "text/x-python",
   "name": "python",
   "nbconvert_exporter": "python",
   "pygments_lexer": "ipython3",
   "version": "3.6.7"
  }
 },
 "nbformat": 4,
 "nbformat_minor": 2
}
