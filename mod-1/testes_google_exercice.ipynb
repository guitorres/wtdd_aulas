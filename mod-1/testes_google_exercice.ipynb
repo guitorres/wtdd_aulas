{
 "cells": [
  {
   "cell_type": "code",
   "execution_count": 15,
   "metadata": {},
   "outputs": [
    {
     "data": {
      "text/plain": [
       "'c'"
      ]
     },
     "execution_count": 15,
     "metadata": {},
     "output_type": "execute_result"
    }
   ],
   "source": [
    "#both_ends\n",
    "s = 'teste'\n",
    "s[:2], s[-2:]\n",
    "s = 'tes'\n",
    "s[:2], s[-2:]\n",
    "\n",
    "#fix_start\n",
    "s = 'compactacao'\n",
    "start_char = s[0]\n",
    "s[1:].replace(start_char, '*')"
   ]
  }
 ],
 "metadata": {
  "kernelspec": {
   "display_name": "Python 3",
   "language": "python",
   "name": "python3"
  },
  "language_info": {
   "codemirror_mode": {
    "name": "ipython",
    "version": 3
   },
   "file_extension": ".py",
   "mimetype": "text/x-python",
   "name": "python",
   "nbconvert_exporter": "python",
   "pygments_lexer": "ipython3",
   "version": "3.6.3"
  }
 },
 "nbformat": 4,
 "nbformat_minor": 2
}
