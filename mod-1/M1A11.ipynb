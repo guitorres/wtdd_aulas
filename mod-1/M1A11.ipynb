{
 "cells": [
  {
   "cell_type": "code",
   "execution_count": 4,
   "metadata": {},
   "outputs": [
    {
     "data": {
      "text/plain": [
       "b'henriqu\\xc3\\xaa'"
      ]
     },
     "execution_count": 4,
     "metadata": {},
     "output_type": "execute_result"
    }
   ],
   "source": [
    "nome = 'henrique'\n",
    "'henrique'.encode()\n",
    "'henriquê'.encode()"
   ]
  },
  {
   "cell_type": "code",
   "execution_count": 23,
   "metadata": {},
   "outputs": [
    {
     "name": "stdout",
     "output_type": "stream",
     "text": [
      "henrique bastos\n",
      "HENRIQUE BASTOS\n",
      "Henrique bastos\n",
      "henrique baSStoSS\n",
      "['h', 'nriqu', ' bastos']\n",
      "henrique\n",
      "bastos\n",
      "15\n",
      "10+20+30+(10*20*30)\n"
     ]
    }
   ],
   "source": [
    "nome = 'henrique bastos'\n",
    "print(nome)\n",
    "print(nome.upper())\n",
    "print(nome.capitalize())\n",
    "print(nome.replace('s', 'SS'))\n",
    "print(nome.split('e'))\n",
    "print('\\n'.join(['henrique', 'bastos']))\n",
    "print(len(nome))\n",
    "print('+'.join(['10','20','30','(10*20*30)']))"
   ]
  }
 ],
 "metadata": {
  "kernelspec": {
   "display_name": "Python 3",
   "language": "python",
   "name": "python3"
  },
  "language_info": {
   "codemirror_mode": {
    "name": "ipython",
    "version": 3
   },
   "file_extension": ".py",
   "mimetype": "text/x-python",
   "name": "python",
   "nbconvert_exporter": "python",
   "pygments_lexer": "ipython3",
   "version": "3.6.3"
  }
 },
 "nbformat": 4,
 "nbformat_minor": 2
}
