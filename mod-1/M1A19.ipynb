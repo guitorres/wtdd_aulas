{
 "cells": [
  {
   "cell_type": "code",
   "execution_count": 9,
   "metadata": {},
   "outputs": [
    {
     "name": "stdout",
     "output_type": "stream",
     "text": [
      "h\n",
      "E\n",
      "n\n",
      "r\n",
      "I\n",
      "@\n",
      "U\n",
      "E\n",
      "[1, 2, 3]\n"
     ]
    }
   ],
   "source": [
    "nome = 'henrique'\n",
    "for c in nome:\n",
    "    if c in 'aeiou':\n",
    "        print(c.upper())\n",
    "    elif c == 'q':\n",
    "        print('@')        \n",
    "    else:\n",
    "        print(c)\n",
    "#True and False        \n",
    "print(False or [1,2,3])"
   ]
  }
 ],
 "metadata": {
  "kernelspec": {
   "display_name": "Python 3",
   "language": "python",
   "name": "python3"
  },
  "language_info": {
   "codemirror_mode": {
    "name": "ipython",
    "version": 3
   },
   "file_extension": ".py",
   "mimetype": "text/x-python",
   "name": "python",
   "nbconvert_exporter": "python",
   "pygments_lexer": "ipython3",
   "version": "3.6.3"
  }
 },
 "nbformat": 4,
 "nbformat_minor": 2
}
