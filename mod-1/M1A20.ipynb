{
 "cells": [
  {
   "cell_type": "code",
   "execution_count": 3,
   "metadata": {},
   "outputs": [
    {
     "name": "stdout",
     "output_type": "stream",
     "text": [
      "Henrique ['Niterói', 22.9, 43.1]\n"
     ]
    }
   ],
   "source": [
    "row = 'Henrique', 'Niterói', 22.9, 43.1\n",
    "def f(t):\n",
    "    #nome, cidade, lat, long = t\n",
    "    #print(nome, cidade, lat, long)\n",
    "    nome, *_ =t\n",
    "    print(nome, _)\n",
    "if __name__ == '__main__':\n",
    "    f(row)"
   ]
  },
  {
   "cell_type": "code",
   "execution_count": 14,
   "metadata": {},
   "outputs": [
    {
     "name": "stdout",
     "output_type": "stream",
     "text": [
      "Henrique Niterói 22.9 43.1\n",
      "Vinícius Santarém 2.4 54.7\n"
     ]
    }
   ],
   "source": [
    "table = (('Henrique', 'Niterói', 22.9, 43.1),\n",
    "         ('Vinícius', 'Santarém', 2.4, 54.7)\n",
    "        )\n",
    "#for row in table:\n",
    "#    nome, cidade, lat, long = row\n",
    "#    print(nome, cidade, lat, long)\n",
    "for nome, cidade, *coordenadas in table:\n",
    "    print(nome, cidade, *coordenadas)"
   ]
  }
 ],
 "metadata": {
  "kernelspec": {
   "display_name": "Python 3",
   "language": "python",
   "name": "python3"
  },
  "language_info": {
   "codemirror_mode": {
    "name": "ipython",
    "version": 3
   },
   "file_extension": ".py",
   "mimetype": "text/x-python",
   "name": "python",
   "nbconvert_exporter": "python",
   "pygments_lexer": "ipython3",
   "version": "3.6.3"
  }
 },
 "nbformat": 4,
 "nbformat_minor": 2
}
