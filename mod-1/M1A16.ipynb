{
 "cells": [
  {
   "cell_type": "code",
   "execution_count": 22,
   "metadata": {},
   "outputs": [
    {
     "name": "stdout",
     "output_type": "stream",
     "text": [
      "{'nome': 'Henrique', 'cidade': 'Niterói', 'lat': 22.9, 'long': 43.1}\n",
      "Henrique\n",
      "{'nome': 'Henrique Bastos', 'cidade': 'Niterói', 'lat': 22.9, 'long': 43.1}\n",
      "valor padrão\n",
      "4\n",
      "dict_keys(['nome', 'cidade', 'lat', 'long'])\n",
      "dict_items([('nome', 'Henrique Bastos'), ('cidade', 'Niterói'), ('lat', 22.9), ('long', 43.1)])\n",
      "dict_values(['Henrique Bastos', 'Niterói', 22.9, 43.1])\n",
      "{'nome': 'Henrique Bastos', 'cidade': 'Niterói', 'lat': 22.9, 'long': 43.1, 'interesses': ['autonomia', 'hack', 'cerveja']}\n",
      "{'nome': 'Henrique Bastos', 'cidade': 'Niterói', 'lat': 22.9, 'long': 43.1}\n"
     ]
    }
   ],
   "source": [
    "d = {'nome': 'Henrique', 'cidade': 'Niterói', 'lat': 22.9, 'long': 43.1}\n",
    "print(d)\n",
    "print(d['nome'])\n",
    "d['nome'] = 'Henrique Bastos'\n",
    "print(d)\n",
    "print(d.get('asdf', 'valor padrão'))\n",
    "print(len(d))\n",
    "k, v, i = d.keys(), d.values(), d.items()\n",
    "print(k)\n",
    "print(i)\n",
    "print(v)\n",
    "d['Ola'] = 'Mundo!'\n",
    "del d['Ola']\n",
    "d\n",
    "hash((1,2,3))\n",
    "d.update(interesses=['autonomia', 'hack'])\n",
    "d['interesses'].append('cerveja')\n",
    "print(d)\n",
    "d.pop('interesses')\n",
    "print(d)"
   ]
  }
 ],
 "metadata": {
  "kernelspec": {
   "display_name": "Python 3",
   "language": "python",
   "name": "python3"
  },
  "language_info": {
   "codemirror_mode": {
    "name": "ipython",
    "version": 3
   },
   "file_extension": ".py",
   "mimetype": "text/x-python",
   "name": "python",
   "nbconvert_exporter": "python",
   "pygments_lexer": "ipython3",
   "version": "3.6.3"
  }
 },
 "nbformat": 4,
 "nbformat_minor": 2
}
