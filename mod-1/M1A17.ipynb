{
 "cells": [
  {
   "cell_type": "code",
   "execution_count": 10,
   "metadata": {},
   "outputs": [
    {
     "name": "stdout",
     "output_type": "stream",
     "text": [
      "2\n",
      "11\n",
      "12\n",
      "1111111111\n",
      "ola, henrique, bom dia\n"
     ]
    }
   ],
   "source": [
    "letras = 'abc'\n",
    "letras.upper?\n",
    "print(1 + int('1'))\n",
    "print(str(1)+'1')\n",
    "print('1'.__add__('2'))\n",
    "print('1'*10)\n",
    "print('ola, %s, %s' % ('henrique', 'bom dia'))"
   ]
  }
 ],
 "metadata": {
  "kernelspec": {
   "display_name": "Python 3",
   "language": "python",
   "name": "python3"
  },
  "language_info": {
   "codemirror_mode": {
    "name": "ipython",
    "version": 3
   },
   "file_extension": ".py",
   "mimetype": "text/x-python",
   "name": "python",
   "nbconvert_exporter": "python",
   "pygments_lexer": "ipython3",
   "version": "3.6.3"
  }
 },
 "nbformat": 4,
 "nbformat_minor": 2
}
