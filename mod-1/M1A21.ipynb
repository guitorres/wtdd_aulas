{
 "cells": [
  {
   "cell_type": "code",
   "execution_count": 12,
   "metadata": {},
   "outputs": [
    {
     "name": "stdout",
     "output_type": "stream",
     "text": [
      "a b c\n",
      "None\n",
      "a b c ('d', 'e', 'f', 'g')\n",
      "None\n",
      "a b c {'d': 'd', 'e': 'e', 'f': 'f', 'g': 'g'}\n",
      "None\n",
      "Help on function calc in module __main__:\n",
      "\n",
      "calc(v1, v2)\n",
      "    recebe os valores v1 e v2 e retorna a soma de v1 + v2\n",
      "\n",
      "(('a', 'b', 'c'), {'x': 'oi', 'y': 'eu', 'z': 'sou'}) {}\n",
      "('a', 'b', 'c') {'x': 'oi', 'y': 'eu', 'z': 'sou'}\n"
     ]
    }
   ],
   "source": [
    "#função são objetos da classe function\n",
    "\n",
    "def f1(a, b, c):\n",
    "    print(a, b, c)\n",
    "\n",
    "#função com parametro *args = passar quantidade indefinida de parametros posicionados\n",
    "def f2(a, b, c, *args):\n",
    "    print(a, b, c, args)\n",
    "    \n",
    "    \n",
    "#função com parametro **kwargs = passar quantidade indefinida de parametros nomeados    \n",
    "def f3(a, b, c, **kwargs):    \n",
    "    print(a, b, c, kwargs)\n",
    "    \n",
    "print(f1('a', 'b', 'c'))\n",
    "print(f2('a', 'b', 'c', 'd', 'e', 'f', 'g'))\n",
    "print(f3('a', 'b', 'c', d='d', e='e', f='f', g='g'))\n",
    "\n",
    "#documentar funções = doc string = as primeiras strings explicitas sao utilizadas para documentar\n",
    "def calc(v1, v2):\n",
    "    'recebe os valores v1 e v2 e retorna a soma de v1 + v2'\n",
    "    return v1 + v2\n",
    "help(calc)\n",
    "\n",
    "#funcao generica\n",
    "# unpack dos parametros\n",
    "def g(*args, **kwargs):\n",
    "    print(args, kwargs)\n",
    "\n",
    "p1 = 'a', 'b', 'c'    \n",
    "p2 = {'x' : 'oi', 'y' : 'eu', 'z' : 'sou'}\n",
    "g(p1, p2)    \n",
    "g(*p1, **p2)"
   ]
  }
 ],
 "metadata": {
  "kernelspec": {
   "display_name": "Python 3",
   "language": "python",
   "name": "python3"
  },
  "language_info": {
   "codemirror_mode": {
    "name": "ipython",
    "version": 3
   },
   "file_extension": ".py",
   "mimetype": "text/x-python",
   "name": "python",
   "nbconvert_exporter": "python",
   "pygments_lexer": "ipython3",
   "version": "3.6.7"
  }
 },
 "nbformat": 4,
 "nbformat_minor": 2
}
